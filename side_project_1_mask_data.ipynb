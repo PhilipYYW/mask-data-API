{
  "nbformat": 4,
  "nbformat_minor": 0,
  "metadata": {
    "colab": {
      "provenance": [],
      "authorship_tag": "ABX9TyNYO/G/7Tu1R4DVgzxP/f0G",
      "include_colab_link": true
    },
    "kernelspec": {
      "name": "python3",
      "display_name": "Python 3"
    },
    "language_info": {
      "name": "python"
    }
  },
  "cells": [
    {
      "cell_type": "markdown",
      "metadata": {
        "id": "view-in-github",
        "colab_type": "text"
      },
      "source": [
        "<a href=\"https://colab.research.google.com/github/PhilipYYW/mask-data-API/blob/main/side_project_1_mask_data.ipynb\" target=\"_parent\"><img src=\"https://colab.research.google.com/assets/colab-badge.svg\" alt=\"Open In Colab\"/></a>"
      ]
    },
    {
      "cell_type": "code",
      "execution_count": 6,
      "metadata": {
        "colab": {
          "base_uri": "https://localhost:8080/"
        },
        "id": "oXpwiWzMlixH",
        "outputId": "c543f3c7-64cd-4da6-a109-d176488b14bc"
      },
      "outputs": [
        {
          "output_type": "stream",
          "name": "stdout",
          "text": [
            "INSERT INTO masks VALUES ('新北市', 670270, '2024-06-20 13:27:48.957811')\n",
            "INSERT INTO masks VALUES ('臺中市', 536710, '2024-06-20 13:27:48.968841')\n",
            "INSERT INTO masks VALUES ('高雄市', 424170, '2024-06-20 13:27:48.995532')\n",
            "INSERT INTO masks VALUES ('臺南市', 393900, '2024-06-20 13:27:49.008086')\n",
            "INSERT INTO masks VALUES ('桃園市', 331940, '2024-06-20 13:27:49.019659')\n",
            "INSERT INTO masks VALUES ('臺北市', 322490, '2024-06-20 13:27:49.031204')\n",
            "INSERT INTO masks VALUES ('彰化縣', 219400, '2024-06-20 13:27:49.041978')\n",
            "INSERT INTO masks VALUES ('雲林縣', 196990, '2024-06-20 13:27:49.053368')\n",
            "INSERT INTO masks VALUES ('屏東縣', 184250, '2024-06-20 13:27:49.064254')\n",
            "INSERT INTO masks VALUES ('苗栗縣', 131080, '2024-06-20 13:27:49.075197')\n",
            "INSERT INTO masks VALUES ('嘉義縣', 113180, '2024-06-20 13:27:49.086265')\n",
            "INSERT INTO masks VALUES ('嘉義市', 107840, '2024-06-20 13:27:49.097182')\n",
            "INSERT INTO masks VALUES ('宜蘭縣', 106900, '2024-06-20 13:27:49.106980')\n",
            "INSERT INTO masks VALUES ('南投縣', 91240, '2024-06-20 13:27:49.118356')\n",
            "INSERT INTO masks VALUES ('基隆市', 80100, '2024-06-20 13:27:49.129950')\n",
            "INSERT INTO masks VALUES ('', 69210, '2024-06-20 13:27:49.142381')\n",
            "INSERT INTO masks VALUES ('花蓮縣', 57330, '2024-06-20 13:27:49.151364')\n",
            "INSERT INTO masks VALUES ('新竹縣', 51350, '2024-06-20 13:27:49.163571')\n",
            "INSERT INTO masks VALUES ('新竹市', 45630, '2024-06-20 13:27:49.174975')\n",
            "INSERT INTO masks VALUES ('臺東縣', 28510, '2024-06-20 13:27:49.185584')\n",
            "INSERT INTO masks VALUES ('金門縣', 15510, '2024-06-20 13:27:49.197161')\n",
            "INSERT INTO masks VALUES ('澎湖縣', 12600, '2024-06-20 13:27:49.208262')\n",
            "INSERT INTO masks VALUES ('連江縣', 7930, '2024-06-20 13:27:49.219371')\n",
            "[('新北市', '670270', '2024-06-20 13:27:48.957811'), ('臺中市', '536710', '2024-06-20 13:27:48.968841'), ('高雄市', '424170', '2024-06-20 13:27:48.995532'), ('臺南市', '393900', '2024-06-20 13:27:49.008086'), ('桃園市', '331940', '2024-06-20 13:27:49.019659'), ('臺北市', '322490', '2024-06-20 13:27:49.031204'), ('彰化縣', '219400', '2024-06-20 13:27:49.041978'), ('雲林縣', '196990', '2024-06-20 13:27:49.053368'), ('屏東縣', '184250', '2024-06-20 13:27:49.064254'), ('苗栗縣', '131080', '2024-06-20 13:27:49.075197'), ('嘉義縣', '113180', '2024-06-20 13:27:49.086265'), ('嘉義市', '107840', '2024-06-20 13:27:49.097182'), ('宜蘭縣', '106900', '2024-06-20 13:27:49.106980'), ('南投縣', '91240', '2024-06-20 13:27:49.118356'), ('基隆市', '80100', '2024-06-20 13:27:49.129950'), ('', '69210', '2024-06-20 13:27:49.142381'), ('花蓮縣', '57330', '2024-06-20 13:27:49.151364'), ('新竹縣', '51350', '2024-06-20 13:27:49.163571'), ('新竹市', '45630', '2024-06-20 13:27:49.174975'), ('臺東縣', '28510', '2024-06-20 13:27:49.185584'), ('金門縣', '15510', '2024-06-20 13:27:49.197161'), ('澎湖縣', '12600', '2024-06-20 13:27:49.208262'), ('連江縣', '7930', '2024-06-20 13:27:49.219371')]\n"
          ]
        }
      ],
      "source": [
        "import requests\n",
        "import json\n",
        "import sqlite3\n",
        "import datetime\n",
        "\n",
        "conn = sqlite3.connect('example.db')\n",
        "c = conn.cursor()\n",
        "\n",
        "# 新增且清空資料表\n",
        "c.execute('''CREATE TABLE IF NOT EXISTS masks\n",
        "             (city text, mask_adult text, createAt datetime)''')\n",
        "c.execute('''DELETE FROM masks''')\n",
        "conn.commit()\n",
        "\n",
        "\n",
        "\n",
        "url = 'https://raw.githubusercontent.com/kiang/pharmacies/master/json/points.json'\n",
        "response = requests.get(url)\n",
        "d = response.text\n",
        "data = json.loads(d)\n",
        "\n",
        "\n",
        "mask_count = {}\n",
        "\n",
        "\n",
        "for d in data['features']:\n",
        "    county = d['properties']['county']\n",
        "    mask_adult = d['properties']['mask_adult']\n",
        "    if county not in mask_count:\n",
        "        mask_count[county] = mask_adult\n",
        "    else:\n",
        "        mask_count[county] += mask_adult\n",
        "\n",
        "\n",
        "# 將結果從大到小排列\n",
        "mask_count = dict(sorted(mask_count.items(), key=lambda item: item[1], reverse=True))\n",
        "\n",
        "\n",
        "for d in mask_count:\n",
        "    city = d\n",
        "    counts = mask_count[d]\n",
        "    t = datetime.datetime.now()\n",
        "    print(f\"INSERT INTO masks VALUES ('{city}', {counts}, '{t}')\")\n",
        "    c.execute(f\"INSERT INTO masks VALUES ('{city}', {counts}, '{t}')\")\n",
        "    conn.commit()\n",
        "\n",
        "# 查詢資料\n",
        "c.execute(\"SELECT * FROM masks\")\n",
        "print(c.fetchall())\n",
        "\n",
        "conn.commit()\n",
        "conn.close()"
      ]
    }
  ]
}